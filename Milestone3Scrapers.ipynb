{
 "cells": [
  {
   "cell_type": "code",
   "execution_count": 1,
   "metadata": {},
   "outputs": [],
   "source": [
    "import numpy as np\n",
    "import pandas as pd\n",
    "import matplotlib.pyplot as plt\n",
    "import seaborn as sns\n"
   ]
  },
  {
   "cell_type": "markdown",
   "metadata": {},
   "source": [
    "# Importing and Reading Tweets"
   ]
  },
  {
   "cell_type": "code",
   "execution_count": 2,
   "metadata": {},
   "outputs": [
    {
     "data": {
      "text/html": [
       "<div>\n",
       "<style scoped>\n",
       "    .dataframe tbody tr th:only-of-type {\n",
       "        vertical-align: middle;\n",
       "    }\n",
       "\n",
       "    .dataframe tbody tr th {\n",
       "        vertical-align: top;\n",
       "    }\n",
       "\n",
       "    .dataframe thead th {\n",
       "        text-align: right;\n",
       "    }\n",
       "</style>\n",
       "<table border=\"1\" class=\"dataframe\">\n",
       "  <thead>\n",
       "    <tr style=\"text-align: right;\">\n",
       "      <th></th>\n",
       "      <th>tweets</th>\n",
       "      <th>country</th>\n",
       "      <th>sentiment score</th>\n",
       "      <th>label</th>\n",
       "    </tr>\n",
       "  </thead>\n",
       "  <tbody>\n",
       "    <tr>\n",
       "      <th>0</th>\n",
       "      <td>itsJeffTiedrich realDonaldTrump Yeah What he said</td>\n",
       "      <td>USA</td>\n",
       "      <td>0.0</td>\n",
       "      <td>Neutral</td>\n",
       "    </tr>\n",
       "    <tr>\n",
       "      <th>1</th>\n",
       "      <td>stevenwdennis So impressed with Justin Fields ...</td>\n",
       "      <td>USA</td>\n",
       "      <td>0.8</td>\n",
       "      <td>positive</td>\n",
       "    </tr>\n",
       "    <tr>\n",
       "      <th>2</th>\n",
       "      <td>#WhoFartedOnJennaEllis</td>\n",
       "      <td>USA</td>\n",
       "      <td>0.0</td>\n",
       "      <td>Neutral</td>\n",
       "    </tr>\n",
       "    <tr>\n",
       "      <th>3</th>\n",
       "      <td>I am DISTAUGHT</td>\n",
       "      <td>USA</td>\n",
       "      <td>0.0</td>\n",
       "      <td>Neutral</td>\n",
       "    </tr>\n",
       "    <tr>\n",
       "      <th>4</th>\n",
       "      <td>Yes he is</td>\n",
       "      <td>USA</td>\n",
       "      <td>0.0</td>\n",
       "      <td>Neutral</td>\n",
       "    </tr>\n",
       "    <tr>\n",
       "      <th>...</th>\n",
       "      <td>...</td>\n",
       "      <td>...</td>\n",
       "      <td>...</td>\n",
       "      <td>...</td>\n",
       "    </tr>\n",
       "    <tr>\n",
       "      <th>53</th>\n",
       "      <td>tonaxociee MichelAgs Il en a a marche en plein...</td>\n",
       "      <td>Benin</td>\n",
       "      <td>0.0</td>\n",
       "      <td>Neutral</td>\n",
       "    </tr>\n",
       "    <tr>\n",
       "      <th>54</th>\n",
       "      <td>karips Ese no es amigo un carrizo</td>\n",
       "      <td>Benin</td>\n",
       "      <td>0.0</td>\n",
       "      <td>Neutral</td>\n",
       "    </tr>\n",
       "    <tr>\n",
       "      <th>55</th>\n",
       "      <td>etour de llectricit</td>\n",
       "      <td>Benin</td>\n",
       "      <td>0.0</td>\n",
       "      <td>Neutral</td>\n",
       "    </tr>\n",
       "    <tr>\n",
       "      <th>56</th>\n",
       "      <td>ELEXJK Ni modo hay que seguir</td>\n",
       "      <td>Benin</td>\n",
       "      <td>0.0</td>\n",
       "      <td>Neutral</td>\n",
       "    </tr>\n",
       "    <tr>\n",
       "      <th>57</th>\n",
       "      <td>FarezCarlitos LeClubDes EltoMok Flicitations F...</td>\n",
       "      <td>Benin</td>\n",
       "      <td>0.0</td>\n",
       "      <td>Neutral</td>\n",
       "    </tr>\n",
       "  </tbody>\n",
       "</table>\n",
       "<p>375 rows × 4 columns</p>\n",
       "</div>"
      ],
      "text/plain": [
       "                                               tweets country  \\\n",
       "0   itsJeffTiedrich realDonaldTrump Yeah What he said     USA   \n",
       "1   stevenwdennis So impressed with Justin Fields ...     USA   \n",
       "2                              #WhoFartedOnJennaEllis     USA   \n",
       "3                                      I am DISTAUGHT     USA   \n",
       "4                                          Yes he is      USA   \n",
       "..                                                ...     ...   \n",
       "53  tonaxociee MichelAgs Il en a a marche en plein...   Benin   \n",
       "54                  karips Ese no es amigo un carrizo   Benin   \n",
       "55                                etour de llectricit   Benin   \n",
       "56                      ELEXJK Ni modo hay que seguir   Benin   \n",
       "57  FarezCarlitos LeClubDes EltoMok Flicitations F...   Benin   \n",
       "\n",
       "    sentiment score     label  \n",
       "0               0.0   Neutral  \n",
       "1               0.8  positive  \n",
       "2               0.0   Neutral  \n",
       "3               0.0   Neutral  \n",
       "4               0.0   Neutral  \n",
       "..              ...       ...  \n",
       "53              0.0   Neutral  \n",
       "54              0.0   Neutral  \n",
       "55              0.0   Neutral  \n",
       "56              0.0   Neutral  \n",
       "57              0.0   Neutral  \n",
       "\n",
       "[375 rows x 4 columns]"
      ]
     },
     "execution_count": 2,
     "metadata": {},
     "output_type": "execute_result"
    }
   ],
   "source": [
    "df_all_integrated = pd.read_csv(\"data/All_Integrated.csv\")\n",
    "df_first = pd.read_csv(\"data/1609188930_scrapersAnalysis.csv\")\n",
    "df_second = pd.read_csv(\"data/1609200000_scrapersAnalysis.csv\")\n",
    "df_third = pd.read_csv(\"data/1609286400_scrapersAnalysis.csv\")\n",
    "df_fourth = pd.read_csv(\"data/1609372800_scrapersAnalysis.csv\")\n",
    "df_fifth = pd.read_csv(\"data/1609459200_scrapersAnalysis.csv\")\n",
    "df_sixth = pd.read_csv(\"data/1609545600_scrapersAnalysis.csv\")\n",
    "df_tweets = pd.concat([df_first,df_second,df_third,df_fourth,df_fifth,df_sixth])\n",
    "df_tweets.drop(df_tweets.columns[df_tweets.columns.str.contains('unnamed',case = False)],axis = 1, inplace = True)\n",
    "df_tweets"
   ]
  },
  {
   "cell_type": "code",
   "execution_count": 3,
   "metadata": {},
   "outputs": [],
   "source": [
    "df_min_happiness= df_tweets[(df_tweets['country']=='Benin')]\n",
    "df_min_happiness= df_min_happiness[(df_min_happiness['label']!='Neutral')]\n",
    "\n",
    "df_max_happiness = df_tweets[(df_tweets['country']=='USA')]\n",
    "df_max_happiness = df_max_happiness[(df_max_happiness['label']!='Neutral')]"
   ]
  },
  {
   "cell_type": "code",
   "execution_count": 4,
   "metadata": {},
   "outputs": [
    {
     "name": "stdout",
     "output_type": "stream",
     "text": [
      "Average Sentiment Score For Min Happiness Country is  0.12746420246538462\n"
     ]
    }
   ],
   "source": [
    "df_min_happiness_average_score = df_min_happiness['sentiment score'].mean()\n",
    "print('Average Sentiment Score For Min Happiness Country is ',df_min_happiness_average_score)"
   ]
  },
  {
   "cell_type": "code",
   "execution_count": 5,
   "metadata": {},
   "outputs": [
    {
     "name": "stdout",
     "output_type": "stream",
     "text": [
      "Average Sentiment Score For Max Happiness Score Country is  0.19576692813466667\n"
     ]
    }
   ],
   "source": [
    "df_max_happiness_average_score = df_max_happiness['sentiment score'].mean()\n",
    "print('Average Sentiment Score For Max Happiness Score Country is ',df_max_happiness_average_score)"
   ]
  },
  {
   "cell_type": "code",
   "execution_count": 6,
   "metadata": {},
   "outputs": [
    {
     "data": {
      "text/plain": [
       "[Text(0.5, 0, 'Minimum/Maximum'),\n",
       " Text(0, 0.5, 'Average Sentiment Score'),\n",
       " Text(0.5, 1.0, 'Comparing Average Sentiment Score For Maximum & Minimum Happiness Score Countries')]"
      ]
     },
     "execution_count": 6,
     "metadata": {},
     "output_type": "execute_result"
    },
    {
     "data": {
      "image/png": "[encoded data removed]",
      "text/plain": [
       "<Figure size 720x432 with 1 Axes>"
      ]
     },
     "metadata": {
      "needs_background": "light"
     },
     "output_type": "display_data"
    }
   ],
   "source": [
    "#set the size of the figure\n",
    "plt.figure(figsize=(10,6)) \n",
    "\n",
    "#plot the barchart\n",
    "SeabornBARCHART = sns.barplot(x=['Minimum','Maximum'],y=[df_min_happiness_average_score,df_max_happiness_average_score])\n",
    "\n",
    "#set the labels and title of the graph\n",
    "SeabornBARCHART.set(xlabel=\"Minimum/Maximum\", ylabel=\"Average Sentiment Score\",title=\"Comparing Average Sentiment Score For Maximum & Minimum Happiness Score Countries\")"
   ]
  },
  {
   "cell_type": "markdown",
   "metadata": {},
   "source": [
    "# Comparing the two results of the high and low country happiness scores for tweets scraped:\n",
    "\n",
    "# It is clear from the above scores that the happiness score of Benin that had already low happiness score in the Happiness Dataset is confirmed to be low from the tweets analysed."
   ]
  },
  {
   "cell_type": "markdown",
   "metadata": {},
   "source": [
    "# While it is also clear from the above scores that the happiness score of USA that had already high happiness score in the Happiness Dataset is confirmed to be high from the tweets analysed."
   ]
  },
  {
   "cell_type": "code",
   "execution_count": 7,
   "metadata": {},
   "outputs": [
    {
     "name": "stdout",
     "output_type": "stream",
     "text": [
      "Happiness Score For Min Happiness Country(Benin) is  3.34\n",
      "Happiness Score For Max Happiness Country(USA) is  7.119\n"
     ]
    }
   ],
   "source": [
    "df_all_integrated_max_happiness = df_all_integrated[(df_all_integrated['Country']=='United States of America')]\n",
    "df_all_integrated_min_happiness = df_all_integrated[(df_all_integrated['Country']=='Benin')]\n",
    "df_all_integrated_max_happiness_score = df_all_integrated_max_happiness['Happiness Score'].values\n",
    "df_all_integrated_min_happiness_score = df_all_integrated_min_happiness['Happiness Score'].values\n",
    "print('Happiness Score For Min Happiness Country(Benin) is ',df_all_integrated_min_happiness_score[0])\n",
    "print('Happiness Score For Max Happiness Country(USA) is ',df_all_integrated_max_happiness_score[0])"
   ]
  },
  {
   "cell_type": "code",
   "execution_count": 8,
   "metadata": {},
   "outputs": [
    {
     "data": {
      "text/plain": [
       "[Text(0.5, 0, 'Minimum/Maximum'),\n",
       " Text(0, 0.5, 'Happiness Score'),\n",
       " Text(0.5, 1.0, 'Comparing The Happiness Score of Maximum & Minimum Countries')]"
      ]
     },
     "execution_count": 8,
     "metadata": {},
     "output_type": "execute_result"
    },
    {
     "data": {
      "image/png": "[encoded data removed]",
      "text/plain": [
       "<Figure size 720x432 with 1 Axes>"
      ]
     },
     "metadata": {
      "needs_background": "light"
     },
     "output_type": "display_data"
    }
   ],
   "source": [
    "#set the size of the figure\n",
    "plt.figure(figsize=(10,6)) \n",
    "\n",
    "#plot the barchart\n",
    "SeabornBARCHART = sns.barplot(x=['Minimum(Benin)','Maximum(USA)'],y=[df_all_integrated_min_happiness_score[0],df_all_integrated_max_happiness_score[0]])\n",
    "\n",
    "#set the labels and title of the graph\n",
    "SeabornBARCHART.set(xlabel=\"Minimum/Maximum\", ylabel=\"Happiness Score\",title=\"Comparing The Happiness Score of Maximum & Minimum Countries\")"
   ]
  },
  {
   "cell_type": "code",
   "execution_count": 14,
   "metadata": {},
   "outputs": [
    {
     "name": "stdout",
     "output_type": "stream",
     "text": [
      "Happiness Score For Benin Increased With A Percentage Of  3.8162934869875613  between the years 2015 and 2021\n",
      "Happiness Score For USA Increased With A Percentage Of  2.7499217324717904  between the years 2015 and 2021\n"
     ]
    }
   ],
   "source": [
    "difference_min = abs(df_all_integrated_min_happiness_score[0] - df_min_happiness_average_score)\n",
    "if(df_min_happiness_average_score < 0):\n",
    "    rate_of_change_min = 100 - (difference_min / df_all_integrated_min_happiness_score[0] *100)\n",
    "    print('Happiness Score For Benin Decreased With A Percentage Of ',rate_of_change_min,' between the years 2015 and 2021')\n",
    "else:\n",
    "    rate_of_change_min = 100-(difference_min / df_all_integrated_min_happiness_score[0] *100)\n",
    "    print('Happiness Score For Benin Increased With A Percentage Of ',rate_of_change_min,' between the years 2015 and 2021')\n",
    "    \n",
    "difference_max = abs(df_all_integrated_max_happiness_score[0] - df_max_happiness_average_score)\n",
    "if(df_max_happiness_average_score < 0):\n",
    "    rate_of_change_max = 100 - (difference_max / df_all_integrated_max_happiness_score[0] *100)\n",
    "    print('Happiness Score For USA Decreased With A Percentage Of ',rate_of_change_max,' between the years 2015 and 2021')\n",
    "else:\n",
    "    rate_of_change_max = 100 - (difference_max / df_all_integrated_max_happiness_score[0] *100)\n",
    "    print('Happiness Score For USA Increased With A Percentage Of ',rate_of_change_max,' between the years 2015 and 2021')\n",
    "    "
   ]
  },
  {
   "cell_type": "markdown",
   "metadata": {},
   "source": [
    "# As Shown Below:\n",
    "- If you compare the previous plot to this one, We get the same observation that USA keeps being higher than Benin and matches the observation from the happiness score of the dataset."
   ]
  },
  {
   "cell_type": "code",
   "execution_count": 27,
   "metadata": {},
   "outputs": [
    {
     "data": {
      "text/plain": [
       "[Text(0.5, 0, 'Min/Max Ratio'),\n",
       " Text(0, 0.5, 'Percentage'),\n",
       " Text(0.5, 1.0, 'Comparison between the ratio between min max score of happiness and the min max of the sentiment analysis')]"
      ]
     },
     "execution_count": 27,
     "metadata": {},
     "output_type": "execute_result"
    },
    {
     "data": {
      "image/png": "[encoded data removed]",
      "text/plain": [
       "<Figure size 720x432 with 1 Axes>"
      ]
     },
     "metadata": {
      "needs_background": "light"
     },
     "output_type": "display_data"
    }
   ],
   "source": [
    "#set the size of the figure\n",
    "plt.figure(figsize=(10,6)) \n",
    "\n",
    "#plot the barchart\n",
    "SeabornBARCHART = sns.barplot(x=['Happiness Score','Tweets Analysis'],y=[df_all_integrated_min_happiness_score[0]/df_all_integrated_max_happiness_score[0] * 100,df_min_happiness_average_score/df_max_happiness_average_score * 100])\n",
    "\n",
    "#set the labels and title of the graph\n",
    "SeabornBARCHART.set(xlabel=\"Min/Max Ratio\", ylabel=\"Percentage\",title=\"Comparison between the ratio between min max score of happiness and the min max of the sentiment analysis\")"
   ]
  },
  {
   "cell_type": "code",
   "execution_count": null,
   "metadata": {},
   "outputs": [],
   "source": []
  }
 ],
 "metadata": {
  "kernelspec": {
   "display_name": "Python 3",
   "language": "python",
   "name": "python3"
  },
  "language_info": {
   "codemirror_mode": {
    "name": "ipython",
    "version": 3
   },
   "file_extension": ".py",
   "mimetype": "text/x-python",
   "name": "python",
   "nbconvert_exporter": "python",
   "pygments_lexer": "ipython3",
   "version": "3.6.9"
  }
 },
 "nbformat": 4,
 "nbformat_minor": 4
}
